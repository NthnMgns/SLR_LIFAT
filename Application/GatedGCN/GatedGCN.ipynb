{
 "cells": [
  {
   "cell_type": "code",
   "execution_count": 1,
   "metadata": {},
   "outputs": [
    {
     "name": "stderr",
     "output_type": "stream",
     "text": [
      "Using backend: pytorch\n"
     ]
    }
   ],
   "source": [
    "import numpy as np\n",
    "import os\n",
    "import sys\n",
    "import time\n",
    "try:\n",
    "    from GatedGCN.builder import *\n",
    "    from GatedGCN.utils import *\n",
    "    from GatedGCN.loader import *\n",
    "except:\n",
    "    sys.path.append('/home/nmiguens/Python')\n",
    "    from GatedGCN.builder import *\n",
    "    from GatedGCN.utils import *\n",
    "    from GatedGCN.loader import *"
   ]
  },
  {
   "cell_type": "code",
   "execution_count": 2,
   "metadata": {},
   "outputs": [],
   "source": [
    "m = 24\n",
    "jsonList = get_list_json(m)\n",
    "nb_classes = len(get_Classes_mIterations(m))\n",
    "s = [0.5, 0.9]\n",
    "\n",
    "X_train, X_test, y_train, y_test = train_test_split(jsonList, jsonList, test_size=0.3, random_state=42)\n",
    "X_test, X_val, y_test, y_val = train_test_split(X_test, y_test, test_size=0.5, random_state=42)\n",
    "\n",
    "trainset = STgraph(X_train, s)\n",
    "validset = STgraph(X_val, s)\n",
    "testset = STgraph(X_test, s)"
   ]
  },
  {
   "cell_type": "code",
   "execution_count": 3,
   "metadata": {},
   "outputs": [
    {
     "data": {
      "text/plain": [
       "DGLGraph(num_nodes=2352, num_edges=18816,\n",
       "         ndata_schemes={'feat': Scheme(shape=(34,), dtype=torch.float16)}\n",
       "         edata_schemes={'feat': Scheme(shape=(1,), dtype=torch.float16)})"
      ]
     },
     "execution_count": 3,
     "metadata": {},
     "output_type": "execute_result"
    }
   ],
   "source": [
    "g = trainset[0][0]\n",
    "g"
   ]
  },
  {
   "cell_type": "code",
   "execution_count": 4,
   "metadata": {},
   "outputs": [],
   "source": [
    "net_params, params = init_params(trainset, nb_classes)\n",
    "net_params[\"gpu\"] = 1\n",
    "\n",
    "train_loader, valid_loader, test_loader = load_data(trainset, validset, testset, 32)"
   ]
  },
  {
   "cell_type": "code",
   "execution_count": null,
   "metadata": {},
   "outputs": [
    {
     "name": "stderr",
     "output_type": "stream",
     "text": [
      "  1%|          | 9/1000 [05:27<10:01:56, 36.44s/it]"
     ]
    }
   ],
   "source": [
    "model, A = train_val_pipeline(train_loader, test_loader, valid_loader, params, net_params)"
   ]
  },
  {
   "cell_type": "code",
   "execution_count": null,
   "metadata": {},
   "outputs": [],
   "source": [
    "import matplotlib.pyplot as plt\n",
    "for a in A : \n",
    "    plt.figure()\n",
    "    plt.plot(a)\n",
    "    plt.show()"
   ]
  },
  {
   "cell_type": "code",
   "execution_count": null,
   "metadata": {},
   "outputs": [],
   "source": [
    "PATH = \"/home/nmiguens/Python/GatedGCN\"\n",
    "torch.save(the_model.state_dict(), PATH)"
   ]
  },
  {
   "cell_type": "code",
   "execution_count": null,
   "metadata": {},
   "outputs": [],
   "source": []
  }
 ],
 "metadata": {
  "kernelspec": {
   "display_name": "Python 3",
   "language": "python",
   "name": "python3"
  },
  "language_info": {
   "codemirror_mode": {
    "name": "ipython",
    "version": 3
   },
   "file_extension": ".py",
   "mimetype": "text/x-python",
   "name": "python",
   "nbconvert_exporter": "python",
   "pygments_lexer": "ipython3",
   "version": "3.6.9"
  }
 },
 "nbformat": 4,
 "nbformat_minor": 4
}
