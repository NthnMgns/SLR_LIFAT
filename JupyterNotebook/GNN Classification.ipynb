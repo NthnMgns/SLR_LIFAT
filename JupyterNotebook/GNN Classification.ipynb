{
 "cells": [
  {
   "cell_type": "markdown",
   "metadata": {},
   "source": [
    "# Image segmentation with Graph Neural Network (GNN)"
   ]
  },
  {
   "cell_type": "markdown",
   "metadata": {},
   "source": [
    "## Installation\n",
    "### Install requirements"
   ]
  },
  {
   "cell_type": "code",
   "execution_count": 1,
   "metadata": {},
   "outputs": [],
   "source": [
    "#! pip install networkx\n",
    "#! pip install torch\n",
    "#! pip install scipy\n",
    "#! pip install ipycanvas"
   ]
  },
  {
   "cell_type": "markdown",
   "metadata": {},
   "source": [
    "### Import"
   ]
  },
  {
   "cell_type": "code",
   "execution_count": 2,
   "metadata": {},
   "outputs": [],
   "source": [
    "import pyopenpose as op\n",
    "import cv2\n",
    "import time\n",
    "import numpy as np\n",
    "import os\n",
    "import json\n",
    "import sys\n",
    "\n",
    "from matplotlib import pyplot as plt\n",
    "from tqdm import tqdm\n",
    "\n",
    "try:\n",
    "    from myOpenpose import *\n",
    "    from myHandGraph import *\n",
    "    \n",
    "except:\n",
    "    sys.path.append('/home/nmiguens/Python')\n",
    "    from myOpenpose import *\n",
    "    from myHandGraph import *"
   ]
  },
  {
   "cell_type": "markdown",
   "metadata": {},
   "source": [
    "## Load Data\n",
    "\n",
    "From Openpose output, use keypoints to build a graph."
   ]
  },
  {
   "cell_type": "markdown",
   "metadata": {},
   "source": [
    "### Prepare datasets requirements"
   ]
  },
  {
   "cell_type": "code",
   "execution_count": 3,
   "metadata": {},
   "outputs": [
    {
     "name": "stdout",
     "output_type": "stream",
     "text": [
      "['images/final_phoenix_noPause_noCompound_lefthandtag_noClean/01February_2011_Tuesday_heute_default-8/1/*.png_fn000030-0.png', 'write']\n"
     ]
    },
    {
     "data": {
      "text/plain": [
       "528"
      ]
     },
     "execution_count": 3,
     "metadata": {},
     "output_type": "execute_result"
    }
   ],
   "source": [
    "path = \"/home/nmiguens/Datasets/ph2014-dev-set-handshape-annotations\"\n",
    "annotations = open(os.path.join(path,\"3359-ph2014-MS-handshape-annotations.txt\"), \"r\").read()\n",
    "annotations_lignes = annotations.split(\"\\n\")\n",
    "\n",
    "print(annotations_lignes[0].split(\" \"))\n",
    "\n",
    "with open(os.path.join(path,'RWTH_words_count.txt')) as json_file:\n",
    "    words_count = json.load(json_file)\n",
    "    \n",
    "words_count[\"1\"]"
   ]
  },
  {
   "cell_type": "markdown",
   "metadata": {},
   "source": [
    "### Extract data"
   ]
  },
  {
   "cell_type": "code",
   "execution_count": 4,
   "metadata": {},
   "outputs": [
    {
     "name": "stderr",
     "output_type": "stream",
     "text": [
      "100%|██████████| 3359/3359 [00:04<00:00, 790.24it/s]"
     ]
    },
    {
     "name": "stdout",
     "output_type": "stream",
     "text": [
      "OpenPose extraction successfully finished. Total time: 4.253300189971924 seconds\n",
      "(880, 126)\n",
      "(880,)\n"
     ]
    },
    {
     "name": "stderr",
     "output_type": "stream",
     "text": [
      "\n"
     ]
    }
   ],
   "source": [
    "# Seuil du nombre d'échantillon par classe\n",
    "threshold = 80\n",
    "\n",
    "# Chemin des fichiers JSON\n",
    "JSONpath = \"/home/nmiguens/JSON/RWTH-PHOENIX_hand_OptimizedParam\"\n",
    "\n",
    "start = time.time()\n",
    "\n",
    "X = []\n",
    "y = []\n",
    "images = []\n",
    "convertionTab = []\n",
    "countTab = dict()\n",
    "\n",
    "for imageId in tqdm(range(len(annotations_lignes))):\n",
    "\n",
    "    imagePath, imageClass = annotations_lignes[imageId].split(\" \")\n",
    "    \n",
    "    if imageClass in countTab :\n",
    "        countTab[imageClass] += 1\n",
    "    else :\n",
    "        countTab[imageClass] = 1\n",
    "    \n",
    "    if words_count[imageClass] >= threshold and countTab[imageClass] <= threshold :\n",
    "        \n",
    "        y.append(imageClass)\n",
    "    \n",
    "        imagePath = os.path.join(path, imagePath)\n",
    "        images.append(imagePath)\n",
    "        \n",
    "        jsonFile = os.path.join(JSONpath, \"{}_keypoints.json\".format(imageId))\n",
    "        x = json_2_numpy(jsonFile, body = False, hand = True, face = False)\n",
    "        X.append(x)\n",
    "        \n",
    "        convertionTab.append(imageId)\n",
    "end = time.time()\n",
    "print(\"OpenPose extraction successfully finished. Total time: \" + str(end - start) + \" seconds\")\n",
    "\n",
    "X = np.array(X)\n",
    "y = np.array(y)\n",
    "print(X.shape)\n",
    "print(y.shape)"
   ]
  },
  {
   "cell_type": "markdown",
   "metadata": {},
   "source": [
    "### Transform data"
   ]
  },
  {
   "cell_type": "code",
   "execution_count": 5,
   "metadata": {},
   "outputs": [
    {
     "data": {
      "text/plain": [
       "(880, 21, 3)"
      ]
     },
     "execution_count": 5,
     "metadata": {},
     "output_type": "execute_result"
    }
   ],
   "source": [
    "graphs = getNodes(X)\n",
    "graphs.shape"
   ]
  },
  {
   "cell_type": "code",
   "execution_count": 6,
   "metadata": {},
   "outputs": [
    {
     "data": {
      "image/png": "[encoded data removed]",
      "text/plain": [
       "<Figure size 432x288 with 1 Axes>"
      ]
     },
     "metadata": {
      "needs_background": "light"
     },
     "output_type": "display_data"
    },
    {
     "data": {
      "application/vnd.jupyter.widget-view+json": {
       "model_id": "fd8aee479ea240fb8a013477e849ceeb",
       "version_major": 2,
       "version_minor": 0
      },
      "text/plain": [
       "Canvas(height=200, width=200)"
      ]
     },
     "metadata": {},
     "output_type": "display_data"
    }
   ],
   "source": [
    "index = 400\n",
    "\n",
    "params = set_params(face = False, body = 0, hand = True, hand_detector = 2, hand_opti = False)\n",
    "imagePath = images[index]\n",
    "#opImage_display(imagePath, params)\n",
    "\n",
    "displayGraph(graphs[index], coef = 1)"
   ]
  },
  {
   "cell_type": "markdown",
   "metadata": {},
   "source": [
    "#### Define datasets class\n",
    "\n",
    "Pytorch provides an abstract class representig a dataset, torch.utils.data.Dataset. We need to override two methods:\n",
    "\n",
    "- __ len __ so that len(dataset) returns the size of the dataset.\n",
    "- __ getitem __ to support the indexing such that dataset[i] can be used to get i-th sample"
   ]
  },
  {
   "cell_type": "markdown",
   "metadata": {},
   "source": [
    "## Define Model"
   ]
  },
  {
   "cell_type": "code",
   "execution_count": 7,
   "metadata": {},
   "outputs": [],
   "source": [
    "graphSet , loader = splitXy(X, y) \n",
    "trainset, vaildset, testset = graphSet\n",
    "train_loader, valid_loader, test_loader = loader"
   ]
  },
  {
   "cell_type": "markdown",
   "metadata": {},
   "source": [
    "## Training setup"
   ]
  },
  {
   "cell_type": "code",
   "execution_count": 9,
   "metadata": {},
   "outputs": [
    {
     "name": "stderr",
     "output_type": "stream",
     "text": [
      "100%|██████████| 100/100 [00:54<00:00,  1.82it/s]\n"
     ]
    },
    {
     "data": {
      "image/png": "[encoded data removed]",
      "text/plain": [
       "<Figure size 432x288 with 1 Axes>"
      ]
     },
     "metadata": {
      "needs_background": "light"
     },
     "output_type": "display_data"
    }
   ],
   "source": [
    "import torch.optim as optim\n",
    "import torch.nn.functional as F\n",
    "\n",
    "\n",
    "model = Net(3, 64, 11)\n",
    "loss_func = nn.CrossEntropyLoss()\n",
    "optimizer = optim.Adam(model.parameters(), lr=0.01)\n",
    "model.train()\n",
    "\n",
    "epoch_losses = []\n",
    "for epoch in tqdm(range(100)):\n",
    "    epoch_loss = 0\n",
    "    for iter, (bn, be, gs, label) in enumerate(train_loader):\n",
    "        prediction = model(bn, be, gs)\n",
    "        loss = loss_func(prediction, label)\n",
    "        optimizer.zero_grad()\n",
    "        loss.backward()\n",
    "        optimizer.step()\n",
    "        epoch_loss += loss.detach().item()\n",
    "    epoch_loss /= (iter + 1)\n",
    "    #print('Epoch {}, loss {:.4f}'.format(epoch, epoch_loss))\n",
    "    epoch_losses.append(epoch_loss)\n",
    "        \n",
    "plt.plot(epoch_losses[2:])\n",
    "plt.show()"
   ]
  },
  {
   "cell_type": "markdown",
   "metadata": {},
   "source": [
    "## Evaluation"
   ]
  },
  {
   "cell_type": "code",
   "execution_count": 13,
   "metadata": {},
   "outputs": [
    {
     "name": "stdout",
     "output_type": "stream",
     "text": [
      "Test accuracy 46.2121\n"
     ]
    }
   ],
   "source": [
    "def accuracy(output, target):\n",
    "  \"\"\"Accuacy given a logit vector output and a target class\n",
    "  \"\"\"\n",
    "  _, pred = output.topk(1)\n",
    "  pred = pred.squeeze()\n",
    "  correct = pred == target\n",
    "  correct = correct.float()\n",
    "  return correct.sum() * 100.0 / correct.shape[0]\n",
    "\n",
    "\n",
    "model.eval()\n",
    "acc = 0\n",
    "with torch.no_grad():\n",
    "  for iter, (bn, be, gs, label) in enumerate(test_loader):\n",
    "    prediction = model(bn, be, gs)\n",
    "    acc += accuracy(prediction, label) * label.shape[0]\n",
    "acc = acc/len(testset)\n",
    "\n",
    "print('Test accuracy {:.4f}'.format(acc))"
   ]
  },
  {
   "cell_type": "code",
   "execution_count": null,
   "metadata": {},
   "outputs": [],
   "source": []
  },
  {
   "cell_type": "markdown",
   "metadata": {},
   "source": [
    "## Others Models"
   ]
  }
 ],
 "metadata": {
  "kernelspec": {
   "display_name": "Python 3",
   "language": "python",
   "name": "python3"
  },
  "language_info": {
   "codemirror_mode": {
    "name": "ipython",
    "version": 3
   },
   "file_extension": ".py",
   "mimetype": "text/x-python",
   "name": "python",
   "nbconvert_exporter": "python",
   "pygments_lexer": "ipython3",
   "version": "3.6.9"
  }
 },
 "nbformat": 4,
 "nbformat_minor": 4
}
